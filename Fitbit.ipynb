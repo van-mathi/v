{
  "nbformat": 4,
  "nbformat_minor": 0,
  "metadata": {
    "colab": {
      "provenance": []
    },
    "kernelspec": {
      "name": "python3",
      "display_name": "Python 3"
    },
    "language_info": {
      "name": "python"
    }
  },
  "cells": [
    {
      "cell_type": "code",
      "execution_count": 68,
      "metadata": {
        "id": "j8TfUJeeriw1"
      },
      "outputs": [],
      "source": [
        "import pandas as pd\n",
        "import sqlite3\n",
        "from sklearn.model_selection import train_test_split\n",
        "from sklearn.ensemble import RandomForestRegressor\n",
        "from sklearn.metrics import mean_squared_error, r2_score\n",
        "from pyspark.sql import SparkSession\n",
        "from pyspark.ml.feature import VectorAssembler\n",
        "from pyspark.ml.regression import RandomForestRegressor as SparkRandomForestRegressor\n",
        "from pyspark.ml.evaluation import RegressionEvaluator\n",
        "from pyspark.ml.tuning import ParamGridBuilder, CrossValidator\n",
        "from pyspark.ml import Pipeline\n",
        "from pyspark.sql import functions as F\n",
        "import matplotlib.pyplot as plt"
      ]
    },
    {
      "cell_type": "code",
      "source": [
        "# Step 1: Create the SQLite database \"fitbit.db\"\n",
        "conn = sqlite3.connect('fitbit.db')"
      ],
      "metadata": {
        "id": "m42lD66-roXV"
      },
      "execution_count": 69,
      "outputs": []
    },
    {
      "cell_type": "code",
      "source": [
        "#Step 2:\n",
        "# Replace 'dailyCalories_merged.csv' with the actual name of your CSV file\n",
        "csv_file = '/content/fitbit_df.csv'"
      ],
      "metadata": {
        "id": "b0Nl-hJtuMxJ"
      },
      "execution_count": 70,
      "outputs": []
    },
    {
      "cell_type": "code",
      "source": [
        "# Load the CSV file into a DataFrame and create a table in the database\n",
        "df_calories = pd.read_csv(csv_file)\n",
        "table_name = csv_file.split(\".\")[0]\n",
        "df_calories.to_sql(table_name, conn, if_exists='replace', index=False)"
      ],
      "metadata": {
        "colab": {
          "base_uri": "https://localhost:8080/"
        },
        "id": "uD2lPLoAuOoA",
        "outputId": "ab5fff06-fc99-4901-8312-22ac6e2da82d"
      },
      "execution_count": 71,
      "outputs": [
        {
          "output_type": "execute_result",
          "data": {
            "text/plain": [
              "413"
            ]
          },
          "metadata": {},
          "execution_count": 71
        }
      ]
    },
    {
      "cell_type": "code",
      "source": [
        "# Remove special characters and spaces from the CSV file name to create a valid table name\n",
        "table_name = ''.join(e for e in csv_file.split(\".\")[0] if e.isalnum())\n",
        "\n",
        "# Create a table in the database\n",
        "df_calories.to_sql(table_name, conn, if_exists='replace', index=False)"
      ],
      "metadata": {
        "colab": {
          "base_uri": "https://localhost:8080/"
        },
        "id": "WlE0LdDxvTKx",
        "outputId": "c8ed0338-d614-4152-d251-c22f2d7ced71"
      },
      "execution_count": 72,
      "outputs": [
        {
          "output_type": "execute_result",
          "data": {
            "text/plain": [
              "413"
            ]
          },
          "metadata": {},
          "execution_count": 72
        }
      ]
    },
    {
      "cell_type": "code",
      "source": [
        "# Step 2: Perform exploratory analysis and calculate correlation measures\n",
        "query = f\"SELECT * FROM {table_name}\"\n",
        "df_calories = pd.read_sql_query(query, conn)"
      ],
      "metadata": {
        "id": "8_16SicIvTgE"
      },
      "execution_count": 73,
      "outputs": []
    },
    {
      "cell_type": "code",
      "source": [
        "# Calculate correlation matrix\n",
        "correlation_matrix = df_calories.corr()\n",
        "\n",
        "# Print the correlation matrix\n",
        "print(\"Correlation Matrix:\")\n",
        "print(correlation_matrix)"
      ],
      "metadata": {
        "colab": {
          "base_uri": "https://localhost:8080/"
        },
        "id": "TRCOBUNzvq_i",
        "outputId": "40e1f9c1-b4ef-44da-c458-2815ee25fecb"
      },
      "execution_count": 74,
      "outputs": [
        {
          "output_type": "stream",
          "name": "stdout",
          "text": [
            "Correlation Matrix:\n",
            "                    SedentaryMinutes  TotalSteps  TotalMinutesAsleep  \\\n",
            "SedentaryMinutes            1.000000   -0.131632           -0.599394   \n",
            "TotalSteps                 -0.131632    1.000000           -0.186866   \n",
            "TotalMinutesAsleep         -0.599394   -0.186866            1.000000   \n",
            "TotalTimeInBed             -0.618713   -0.164060            0.930457   \n",
            "Calories                    0.095315    0.411996           -0.028526   \n",
            "\n",
            "                    TotalTimeInBed  Calories  \n",
            "SedentaryMinutes         -0.618713  0.095315  \n",
            "TotalSteps               -0.164060  0.411996  \n",
            "TotalMinutesAsleep        0.930457 -0.028526  \n",
            "TotalTimeInBed            1.000000 -0.132507  \n",
            "Calories                 -0.132507  1.000000  \n"
          ]
        }
      ]
    },
    {
      "cell_type": "code",
      "source": [
        "# Step 4: Predict calories using tree-based machine learning models\n",
        "# Load data and split into training and testing sets\n",
        "X = df_calories.drop(['Calories'], axis=1)\n",
        "y = df_calories['Calories']\n",
        "X_train, X_test, y_train, y_test = train_test_split(X, y, test_size=0.2, random_state=42)\n"
      ],
      "metadata": {
        "id": "gONHlyfSvrJ3"
      },
      "execution_count": 75,
      "outputs": []
    },
    {
      "cell_type": "code",
      "source": [
        "# Fit and evaluate the RandomForestRegressor\n",
        "rf_model = RandomForestRegressor()\n",
        "rf_model.fit(X_train, y_train)\n",
        "y_pred_rf = rf_model.predict(X_test)\n",
        "\n",
        "# Report results\n",
        "print(\"Results using RandomForestRegressor:\")\n",
        "print(\"Mean Squared Error (MSE):\", mean_squared_error(y_test, y_pred_rf))\n",
        "print(\"R-squared (R2):\", r2_score(y_test, y_pred_rf))"
      ],
      "metadata": {
        "colab": {
          "base_uri": "https://localhost:8080/"
        },
        "id": "71So-UyXvyRF",
        "outputId": "13c13f24-c2b8-4a76-a8c8-092ad5714e8e"
      },
      "execution_count": 76,
      "outputs": [
        {
          "output_type": "stream",
          "name": "stdout",
          "text": [
            "Results using RandomForestRegressor:\n",
            "Mean Squared Error (MSE): 485141.5177554217\n",
            "R-squared (R2): 0.2025221261646144\n"
          ]
        }
      ]
    },
    {
      "cell_type": "code",
      "source": [
        "# Step 5: Implement a scalable workflow using PySpark for the best model\n",
        "# Initialize Spark session\n",
        "spark = SparkSession.builder.appName(\"FitBitModel\").getOrCreate()"
      ],
      "metadata": {
        "id": "Q1b4ngWOvyTu"
      },
      "execution_count": 77,
      "outputs": []
    },
    {
      "cell_type": "code",
      "source": [
        "# Convert the pandas DataFrame to a Spark DataFrame\n",
        "spark_df_calories = spark.createDataFrame(df_calories)"
      ],
      "metadata": {
        "id": "YkbQdeI8wCd-"
      },
      "execution_count": 78,
      "outputs": []
    },
    {
      "cell_type": "code",
      "source": [
        "# Assemble features into a vector\n",
        "feature_cols = df_calories.columns[:-1].tolist()  # Convert to list of strings\n",
        "assembler = VectorAssembler(inputCols=feature_cols, outputCol='features')\n",
        "vector_df = assembler.transform(spark_df_calories)"
      ],
      "metadata": {
        "id": "_Xc-sPFgwJTW"
      },
      "execution_count": 79,
      "outputs": []
    },
    {
      "cell_type": "code",
      "source": [
        "# Split the data into training and testing sets\n",
        "train_df, test_df = vector_df.randomSplit([0.8, 0.2], seed=42)"
      ],
      "metadata": {
        "id": "TXsmwI9kvyXM"
      },
      "execution_count": 80,
      "outputs": []
    },
    {
      "cell_type": "code",
      "source": [
        "# Fit the RandomForestRegressor using PySpark\n",
        "spark_rf = SparkRandomForestRegressor(featuresCol='features', labelCol='Calories')\n",
        "rf_model_spark = spark_rf.fit(train_df)"
      ],
      "metadata": {
        "id": "C_DtJQCGxWwT"
      },
      "execution_count": 81,
      "outputs": []
    },
    {
      "cell_type": "code",
      "source": [
        "# Predict on the test set\n",
        "predictions_spark = rf_model_spark.transform(test_df)"
      ],
      "metadata": {
        "id": "44UiaIZjxWzI"
      },
      "execution_count": 82,
      "outputs": []
    },
    {
      "cell_type": "code",
      "source": [
        "# Selecting the columns of interest from the Spark DataFrame\n",
        "predictions_spark = predictions_spark.select('Calories', 'prediction').toPandas()"
      ],
      "metadata": {
        "id": "vItoJJ8BzvDM"
      },
      "execution_count": 83,
      "outputs": []
    },
    {
      "cell_type": "code",
      "source": [
        "# Visualization: Scatter plot comparing actual vs. predicted calorie values\n",
        "plt.figure(figsize=(8, 6))\n",
        "plt.scatter(predictions_spark['Calories'], predictions_spark['prediction'], alpha=0.6)\n",
        "plt.plot([0, 3500], [0, 3500], color='red', linestyle='--')  # Diagonal line (y=x) for reference\n",
        "plt.xlabel('Actual Calories')\n",
        "plt.ylabel('Predicted Calories')\n",
        "plt.title('Actual vs. Predicted Calories (RandomForestRegressor)')\n",
        "plt.grid(True)\n",
        "plt.show()"
      ],
      "metadata": {
        "colab": {
          "base_uri": "https://localhost:8080/",
          "height": 564
        },
        "id": "Sjbxk9IHzWff",
        "outputId": "80fdeff3-2206-4fb1-d77f-9cd2bf66d956"
      },
      "execution_count": 84,
      "outputs": [
        {
          "output_type": "display_data",
          "data": {
            "text/plain": [
              "<Figure size 800x600 with 1 Axes>"
            ],
            "image/png": "[encoded data removed]"
          },
          "metadata": {}
        }
      ]
    },
    {
      "cell_type": "code",
      "source": [
        "# Create a SparkSession\n",
        "spark = SparkSession.builder.getOrCreate()"
      ],
      "metadata": {
        "id": "62ri2u830nHZ"
      },
      "execution_count": 86,
      "outputs": []
    },
    {
      "cell_type": "code",
      "source": [
        "print(type(predictions_spark))"
      ],
      "metadata": {
        "colab": {
          "base_uri": "https://localhost:8080/"
        },
        "id": "JdC0Jy_a0xPB",
        "outputId": "cf90c1a6-a290-4cde-84e5-76cc3afe0977"
      },
      "execution_count": 88,
      "outputs": [
        {
          "output_type": "stream",
          "name": "stdout",
          "text": [
            "<class 'pandas.core.frame.DataFrame'>\n"
          ]
        }
      ]
    },
    {
      "cell_type": "code",
      "source": [
        "# Evaluate the model\n",
        "mse_spark = mean_squared_error(predictions_spark['Calories'], predictions_spark['prediction'])\n",
        "r2_spark = r2_score(predictions_spark['Calories'], predictions_spark['prediction'])\n",
        "\n",
        "print(\"Mean Squared Error (MSE):\", mse_spark)\n",
        "print(\"R-squared (R2):\", r2_spark)"
      ],
      "metadata": {
        "colab": {
          "base_uri": "https://localhost:8080/"
        },
        "id": "iUQ8ll5T1Dk9",
        "outputId": "4d6d270a-1f12-4232-dcb8-308275638cad"
      },
      "execution_count": 91,
      "outputs": [
        {
          "output_type": "stream",
          "name": "stdout",
          "text": [
            "Mean Squared Error (MSE): 378019.761651695\n",
            "R-squared (R2): 0.3434360461381174\n"
          ]
        }
      ]
    },
    {
      "cell_type": "code",
      "source": [
        "# Report results\n",
        "print(\"Results using PySpark RandomForestRegressor:\")\n",
        "print(\"Mean Squared Error (MSE):\", mse_spark)\n",
        "print(\"R-squared (R2):\", r2_spark)"
      ],
      "metadata": {
        "colab": {
          "base_uri": "https://localhost:8080/"
        },
        "id": "zwTMQPfjuhSq",
        "outputId": "15cfc70f-0be7-41c4-9d7c-9b6b53f9d7be"
      },
      "execution_count": 92,
      "outputs": [
        {
          "output_type": "stream",
          "name": "stdout",
          "text": [
            "Results using PySpark RandomForestRegressor:\n",
            "Mean Squared Error (MSE): 378019.761651695\n",
            "R-squared (R2): 0.3434360461381174\n"
          ]
        }
      ]
    },
    {
      "cell_type": "code",
      "source": [
        "# Step 6: Predict calories using linear machine learning models\n",
        "from sklearn.linear_model import LinearRegression"
      ],
      "metadata": {
        "id": "BI_rqFnXuhV1"
      },
      "execution_count": 93,
      "outputs": []
    },
    {
      "cell_type": "code",
      "source": [
        "# Fit and evaluate the Linear Regression model\n",
        "lr_model = LinearRegression()\n",
        "lr_model.fit(X_train, y_train)\n",
        "y_pred_lr = lr_model.predict(X_test)"
      ],
      "metadata": {
        "id": "Lvvj-MD2uhZG"
      },
      "execution_count": 94,
      "outputs": []
    },
    {
      "cell_type": "code",
      "source": [
        "# Report results\n",
        "print(\"Results using Linear Regression:\")\n",
        "print(\"Mean Squared Error (MSE):\", mean_squared_error(y_test, y_pred_lr))\n",
        "print(\"R-squared (R2):\", r2_score(y_test, y_pred_lr))"
      ],
      "metadata": {
        "colab": {
          "base_uri": "https://localhost:8080/"
        },
        "id": "kKdWUxS9sGvD",
        "outputId": "ea5094c1-5cf3-476f-c18b-5358510b2a66"
      },
      "execution_count": 95,
      "outputs": [
        {
          "output_type": "stream",
          "name": "stdout",
          "text": [
            "Results using Linear Regression:\n",
            "Mean Squared Error (MSE): 462351.8490331438\n",
            "R-squared (R2): 0.23998388916140112\n"
          ]
        }
      ]
    },
    {
      "cell_type": "code",
      "source": [
        "# Close Spark session\n",
        "spark.stop()"
      ],
      "metadata": {
        "id": "lve8AhEOsGxs"
      },
      "execution_count": 96,
      "outputs": []
    },
    {
      "cell_type": "code",
      "source": [
        "# Close SQLite connection\n",
        "conn.close()"
      ],
      "metadata": {
        "id": "ridAE7xosG1F"
      },
      "execution_count": 97,
      "outputs": []
    }
  ]
}